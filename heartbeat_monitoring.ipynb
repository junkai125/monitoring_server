{
 "cells": [
  {
   "cell_type": "code",
   "execution_count": 8,
   "metadata": {
    "collapsed": true
   },
   "outputs": [],
   "source": [
    "from __future__ import division\n",
    "import requests\n",
    "import csv\n",
    "import yaml\n",
    "import time\n",
    "import pandas as pd\n",
    "import numpy as np\n",
    "import time\n",
    "from easymail import utils_sendMail"
   ]
  },
  {
   "cell_type": "code",
   "execution_count": 2,
   "metadata": {
    "collapsed": true
   },
   "outputs": [],
   "source": [
    "# load the server credentials\n",
    "configs = yaml.load(open('server_config.yaml'))\n"
   ]
  },
  {
   "cell_type": "code",
   "execution_count": null,
   "metadata": {
    "collapsed": true
   },
   "outputs": [],
   "source": [
    "# main\n",
    "while True:\n",
    "    try:\n",
    "        for credential in configs.values():\n",
    "            # query dstat server\n",
    "            res = query_heartbeat_server(credential)\n",
    "            hostname = res['hostname']\n",
    "\n",
    "            # check status\n",
    "            det = check_server_down(res)\n",
    "            \n",
    "            if det:\n",
    "                if check_alert_met(hostname):\n",
    "                    send_alert(hostname, 'email_list.csv')\n",
    "\n",
    "                        \n",
    "    # This happen when the server down, so continue to avoid the client_server crash.\n",
    "    except KeyError:\n",
    "        continue"
   ]
  },
  {
   "cell_type": "code",
   "execution_count": 22,
   "metadata": {},
   "outputs": [],
   "source": [
    "for credential in configs.values():\n",
    "    # query dstat server\n",
    "    res = query_heartbeat_server(credential)\n",
    "    hostname = res['hostname']\n",
    "\n",
    "    # check status\n",
    "    det = check_server_down(res)\n",
    "\n",
    "    if det:\n",
    "        if check_alert_met(hostname):\n",
    "            send_alert(hostname, 'email_list.csv')"
   ]
  },
  {
   "cell_type": "markdown",
   "metadata": {},
   "source": [
    "### Design Functions"
   ]
  },
  {
   "cell_type": "code",
   "execution_count": 3,
   "metadata": {
    "collapsed": true
   },
   "outputs": [],
   "source": [
    "# query heartbeat server\n",
    "def query_heartbeat_server(pack):\n",
    "    output = {'hostname': pack['hostname']}\n",
    "    url = url = pack['url'].strip('/') +'/heartbeat'\n",
    "    try:\n",
    "        r = requests.post(url, json=pack, timeout=0.5)\n",
    "        if r.status_code != 200:\n",
    "            output['content'] = r.content\n",
    "            output['status'] = 'failed'\n",
    "            return output\n",
    "        ans = r.json()\n",
    "        output.update(ans)\n",
    "        if(output[\"verification\"] != \"successful\"):\n",
    "            output['content'] = r.content\n",
    "            output['status'] = 'failed'\n",
    "            flash(\"verification failed!\")\n",
    "            return output\n",
    "        output['status'] = 'success'\n",
    "\n",
    "        return output   \n",
    "    except Exception, e:\n",
    "        output['content'] = repr(e)\n",
    "        output['status'] = 'failed'\n",
    "        return output\n",
    "    # end try\n",
    "# end def "
   ]
  },
  {
   "cell_type": "code",
   "execution_count": 4,
   "metadata": {
    "collapsed": true
   },
   "outputs": [],
   "source": [
    "def check_server_down(res):\n",
    "    status = res['status']\n",
    "    if status != 'success':\n",
    "        return True"
   ]
  },
  {
   "cell_type": "code",
   "execution_count": 19,
   "metadata": {
    "collapsed": true
   },
   "outputs": [],
   "source": [
    "# to check if necessary to send email\n",
    "def check_alert_met(hostname, frequency=2):\n",
    "    \n",
    "    \n",
    "    def write_log(hostname, send_email='no'):\n",
    "        try:\n",
    "            df = pd.read_csv(hostname+ '_server_down.csv', index_col=0)\n",
    "            log = {\"time\": time.time(), 'email': send_email}\n",
    "            df = df.append(log, ignore_index=True)\n",
    "            df.to_csv(hostname+ '_server_down.csv')\n",
    "\n",
    "        # when csv not exist\n",
    "        except IOError:\n",
    "            log = {\"time\": time.time(), 'email': send_email}\n",
    "            _df = pd.DataFrame(log, index=[0])\n",
    "            _df.to_csv(hostname+ '_server_down.csv')\n",
    "    \n",
    "    \n",
    "    try: \n",
    "        df = pd.read_csv(hostname+ '_server_down.csv', index_col=0).sort_values('time')\n",
    "        \n",
    "            \n",
    "        # only trace the data based on frequency\n",
    "        trace_back_time = frequency * 60 # in seconds\n",
    "        now = time.time()\n",
    "        cutoff = now - trace_back_time + 1\n",
    "        _df = df[df['time'] >= cutoff]\n",
    "        if 'yes' not in _df['email'].values:\n",
    "            # write log\n",
    "            write_log(hostname, send_email='yes')\n",
    "            # return True to send email\n",
    "            return True\n",
    "            \n",
    "        else:\n",
    "            # write log but not sending email\n",
    "            write_log(hostname, send_email='no')\n",
    "            return False\n",
    "            \n",
    "    # when file not exist        \n",
    "    except IOError:\n",
    "        write_log(hostname, send_email='no')\n",
    "        return False"
   ]
  },
  {
   "cell_type": "code",
   "execution_count": 11,
   "metadata": {
    "collapsed": true
   },
   "outputs": [],
   "source": [
    "def send_alert(hostname, recipient_email_filename):\n",
    "\n",
    "    # make subject of email\n",
    "    subject = \"Server \" + hostname + \" is down.\"\n",
    "        \n",
    "    # make text    \n",
    "    text = \"Server \" + hostname + \" is down at \" + str(time.time())\n",
    "    \n",
    "    \n",
    "    with open(recipient_email_filename) as f:\n",
    "        emailReader = csv.reader(f)\n",
    "        emailList = list(emailReader)\n",
    "    for email in emailList:\n",
    "        print text\n",
    "        #utils_sendMail('dstat_client', email[0], subject, text, attachFile = None)"
   ]
  },
  {
   "cell_type": "code",
   "execution_count": null,
   "metadata": {
    "collapsed": true
   },
   "outputs": [],
   "source": []
  }
 ],
 "metadata": {
  "kernelspec": {
   "display_name": "Python 2",
   "language": "python",
   "name": "python2"
  },
  "language_info": {
   "codemirror_mode": {
    "name": "ipython",
    "version": 2
   },
   "file_extension": ".py",
   "mimetype": "text/x-python",
   "name": "python",
   "nbconvert_exporter": "python",
   "pygments_lexer": "ipython2",
   "version": "2.7.14"
  }
 },
 "nbformat": 4,
 "nbformat_minor": 2
}
